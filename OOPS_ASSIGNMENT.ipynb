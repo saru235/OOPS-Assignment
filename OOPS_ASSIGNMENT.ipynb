{
  "nbformat": 4,
  "nbformat_minor": 0,
  "metadata": {
    "colab": {
      "provenance": []
    },
    "kernelspec": {
      "name": "python3",
      "display_name": "Python 3"
    },
    "language_info": {
      "name": "python"
    }
  },
  "cells": [
    {
      "cell_type": "markdown",
      "source": [
        "**Python OOPS Questions**"
      ],
      "metadata": {
        "id": "74bvw6tLwUS9"
      }
    },
    {
      "cell_type": "markdown",
      "source": [
        "**1.What is object-oriented programming(OOP)?**"
      ],
      "metadata": {
        "id": "IFc3755-wfWr"
      }
    },
    {
      "cell_type": "markdown",
      "source": [
        "**Definition**\n",
        "\n",
        "Object-oriented programming (OOP) is a programming style that uses \"objects\" to represent real-world entities and data. An object is a collection of data (often called attributes) and methods (functions or procedures) that operate on that data, allowing for encapsulation of behavior and state. The primary goal of OOP is to increase code reusability, efficiency, and organization."
      ],
      "metadata": {
        "id": "GBHhsJflxkif"
      }
    },
    {
      "cell_type": "markdown",
      "source": [
        "**2.What is a class in OOP?**"
      ],
      "metadata": {
        "id": "jeTV6R0ixqIp"
      }
    },
    {
      "cell_type": "markdown",
      "source": [
        "**Definition and Importance**\n",
        "\n",
        "A class serves as a blueprint or template that defines a set of attributes (data members) and methods (functions) for a specific type of object in Object-Oriented Programming (OOP). By using classes, developers can create multiple instances (objects) that share common characteristics while maintaining their unique states. This encapsulation of data and behavior facilitates modularity, reusability, and better organization of code, making complex systems more manageable."
      ],
      "metadata": {
        "id": "nNKFU59NzF7A"
      }
    },
    {
      "cell_type": "markdown",
      "source": [
        "**3.What is an object in OOP?**"
      ],
      "metadata": {
        "id": "hzvBNBoTz-Wa"
      }
    },
    {
      "cell_type": "markdown",
      "source": [
        "**Definition of an Object**\n",
        "\n",
        "In Object-Oriented Programming (OOP), an object is an instance of a class that binds together data (attributes) and methods (functions or behaviors). Objects can interact with each other and modify their internal state through their methods. For example, consider a \"Car\" object that might have properties like color and model and methods like drive() and stop()"
      ],
      "metadata": {
        "id": "_Y6g32Td0y-T"
      }
    },
    {
      "cell_type": "markdown",
      "source": [
        "**4.What is the difference between abstraction and encapsulation?**"
      ],
      "metadata": {
        "id": "k3TJyDlt1R7V"
      }
    },
    {
      "cell_type": "markdown",
      "source": [
        "** Key Differences**\n",
        "\n",
        "Abstraction\n",
        "Focus -Hides implementation complexities and shows only essential functionalities.\n",
        "\n",
        "Encapsulation\n",
        "Focus - Wraps data and methods into a single unit while restricting their access.\n",
        "\n",
        "Abstraction\n",
        "Purpose - To reduce complexity and enhance code reusability by providing a simpler interface.\n",
        "\n",
        "Encapsulation\n",
        "Purpose - To secure data and ensure that it can only be modified in controlled ways.\n",
        "\n",
        "Abstraction\n",
        "Implementation - Achieved using abstract classes and interfaces, indicating what an object can do.\n",
        "\n",
        "Encapsulation\n",
        "Implementation - Achieved using access modifiers to control visibility, focusing on how methods and data can be accessed.\n",
        "\n",
        "\n",
        "\n",
        "\n"
      ],
      "metadata": {
        "id": "hjMy68BpzSLp"
      }
    },
    {
      "cell_type": "markdown",
      "source": [
        "**5.What are dunder methods in python?**"
      ],
      "metadata": {
        "id": "qvIy04VuCR50"
      }
    },
    {
      "cell_type": "markdown",
      "source": [
        "Dunder methods are unique methods in Python that start and end with double underscores (__). The term \"dunder\" is short for \"double underscore.\" These methods are not meant to be called directly; instead, they are invoked automatically by Python when certain operations are performed on the objects of a class."
      ],
      "metadata": {
        "id": "H9BUYGBvIxkg"
      }
    },
    {
      "cell_type": "markdown",
      "source": [
        "**6.Explain the concept of inheritance in OOP?**"
      ],
      "metadata": {
        "id": "QNB2y8g1I1od"
      }
    },
    {
      "cell_type": "markdown",
      "source": [
        "**What is Inheritance?**\n",
        "\n",
        "Inheritance is a fundamental concept in object-oriented programming (OOP), which enables a class to inherit attributes and behaviors (methods) from another class. The class that inherits is called the subclass or child class, while the class being inherited from is referred to as the superclass or parent class. This relationship establishes an \"is-a\" relationship, meaning a subclass is a specialized version of its superclass.\n",
        "\n",
        "**Why Use Inheritance?**\n",
        "\n",
        "**1.Code Reusability:**\n",
        " Inheritance promotes code reuse, allowing subclasses to use methods and properties of their parent classes without rewriting the same code. This reduces duplication and improves maintenance.\n",
        "\n",
        "**2.Organized Hierarchies:**\n",
        " It helps in organizing classes into manageable hierarchies, reflecting real-world relationships among complex entities.\n",
        "\n",
        "**3.Extensibility:**\n",
        " New features can be introduced to subclasses without altering the original code in the parent classes, promoting flexibility in application development.\n",
        "\n",
        "**4.Polymorphism Support:**\n",
        "It enables polymorphism, allowing objects of different subclasses to be treated as objects of their superclass, enhancing the program's generality and scalability."
      ],
      "metadata": {
        "id": "oL7sH7c4JbXS"
      }
    },
    {
      "cell_type": "markdown",
      "source": [
        "**7.What is polymorphism in OOP?**"
      ],
      "metadata": {
        "id": "3T2fEO0uLOWX"
      }
    },
    {
      "cell_type": "markdown",
      "source": [
        "**Definition**\n",
        "\n",
        "Polymorphism is derived from the Greek words \"poly\" (meaning many) and \"morph\" (meaning forms). In the context of object-oriented programming, polymorphism refers to the ability of different classes to respond to the same method call in a manner appropriate to their specific classes. This capability allows methods to be defined in a general way while providing specific implementations in derived classes."
      ],
      "metadata": {
        "id": "FwKHrYVsLsOl"
      }
    },
    {
      "cell_type": "markdown",
      "source": [
        "**8.How is encapsulation achieved in python?**"
      ],
      "metadata": {
        "id": "0seXPtI_LwUL"
      }
    },
    {
      "cell_type": "markdown",
      "source": [
        "**How Encapsulation Works in Python**\n",
        "\n",
        "**1.Access Modifiers:** Python does not enforce access control, as seen in languages like Java or C++, but it provides naming conventions to indicate the intended visibility of attributes and methods:\n",
        "\n",
        "**- Public:** Attributes and methods that can be accessed from anywhere in the program. By default, all members in a Python class are public.\n",
        "\n",
        "**-Protected:** Members intended to be accessed within the class and its subclasses, typically prefixed with a single underscore _. This is a convention, not a strict enforcement.\n",
        "\n",
        "**-Private:** Members that should not be accessible outside the class, typically prefixed with double underscores __. Python uses a mechanism called name mangling to make it harder to access these members from outside the class. For example, if you have an attribute __balance, it can be accessed outside using _ClassName__balance, where ClassName is the name of your class.\n",
        "\n",
        "**Methods of Access: **\n",
        "\n",
        "To manage how attributes are accessed and modified, encapsulation employs getter and setter methods:\n",
        "\n",
        "Getters: Allow read access to private attributes.\n",
        "\n",
        "Setters: Allow modification of private attributes after validating or processing input."
      ],
      "metadata": {
        "id": "cyfzP2W7MUnM"
      }
    },
    {
      "cell_type": "markdown",
      "source": [
        "**9.What is constructor in python?**"
      ],
      "metadata": {
        "id": "Ep8cOodDPM8V"
      }
    },
    {
      "cell_type": "markdown",
      "source": [
        "**Definition and Purpose**\n",
        "\n",
        "In object-oriented programming, constructors are essential for creating and initializing an object of a class. The constructor method is typically defined using the __init__() method. When you create an object of a class, Python invokes this method, allowing you to set up the object's initial state (i.e., initializing instance variables)\n",
        "\n",
        "**- How It Works**\n",
        "\n",
        "  - When a class constructor is invoked, it follows this basic sequence:\n",
        "\n",
        "  1. Instance Creation: Python first allocates memory for the new object.\n",
        "\n",
        "  2. Initialization: Once memory is allocated, the __init__() method is called to initialize the object's attributes."
      ],
      "metadata": {
        "id": "0UrB3lJtQEyc"
      }
    },
    {
      "cell_type": "markdown",
      "source": [
        "**10.What are class and static methods in python?**"
      ],
      "metadata": {
        "id": "W0n0AanhPYmC"
      }
    },
    {
      "cell_type": "markdown",
      "source": [
        "**- Class Methods**\n",
        "\n",
        "  **Definition: **A class method is a method that is associated with the class itself rather than an instance of the class. It is defined using the @classmethod decorator. The first parameter of a class method is typically named cls, which refers to the class itself.\n",
        "\n",
        "  **Access:** Class methods can access and modify class-level attributes, allowing them to affect all instances of the class. They cannot access instance-level data directly, as they do not receive an instance as a parameter.\n",
        "\n",
        "  **Use Cases:** Class methods are often used for factory methods, which are methods that return class instances. They can also manipulate class variables applicable across all instances.\n",
        "\n",
        "  **- Static Methods**\n",
        "\n",
        "   **Definition: **A static method is defined using the @staticmethod decorator. Unlike class methods, static methods do not take a first parameter that references the class or instance, meaning they cannot modify class or instance state. They are defined in the class namespace for organizational purposes but are independent of class and instance attributes.\n",
        "\n",
        " ** Access:** Static methods cannot access or modify class-level or instance-level data; they operate independently of object state and can be thought of as utility functions that belong to a class.\n",
        "\n",
        " ** Use Cases:** Static methods are useful for utility functions that logically belong to a class but do not require access to any class or instance variables. They help improve code organization and maintainability."
      ],
      "metadata": {
        "id": "Vys0LyJbUXpO"
      }
    },
    {
      "cell_type": "markdown",
      "source": [
        "**11.What is method overloading in python?**"
      ],
      "metadata": {
        "id": "FBXDH4cgSI9F"
      }
    },
    {
      "cell_type": "markdown",
      "source": [
        "  Method overloading in Python allows you to define multiple methods with the same name but different parameters, enhancing code flexibility and readability.\n",
        "\n",
        "**Understanding Method Overloading**\n",
        "\n",
        "Method overloading is a feature in object-oriented programming where a class can have multiple methods with the same name but different parameters. This allows methods to perform different tasks based on the arguments passed to them."
      ],
      "metadata": {
        "id": "I6wZqjI6xa_h"
      }
    },
    {
      "cell_type": "markdown",
      "source": [
        "**12.What is method overriding in OOP?**"
      ],
      "metadata": {
        "id": "sWjebxjfDcak"
      }
    },
    {
      "cell_type": "markdown",
      "source": [
        " Method overriding is a fundamental concept in OOP that allows a subclass to provide a specific implementation of a method already defined in its superclass, enhancing polymorphism and code reusability.\n",
        "\n",
        "**What is Method Overriding?**\n",
        "\n",
        "Method overriding occurs when a subclass defines a method with the same name, return type, and parameter list as a method in its superclass. This allows the subclass to provide a specialized implementation of that method, enabling polymorphism — where the method that is executed is determined at runtime based on the object type."
      ],
      "metadata": {
        "id": "yFvW3QIfFQFk"
      }
    },
    {
      "cell_type": "markdown",
      "source": [
        "**13.What is property decorator in python?**"
      ],
      "metadata": {
        "id": "nAToABamHP13"
      }
    },
    {
      "cell_type": "markdown",
      "source": [
        " The @property decorator in Python allows you to define methods that behave like attribute accessors, enabling encapsulation with getter, setter, and deleter functionalities.\n",
        "\n",
        " **Overview of the Property Decorator**\n",
        "The decorators in Python are syntactic sugar that allows you to modify the behavior of a function or method. The @property decorator is a built-in decorator that helps to manage the attributes of classes by providing a way to define methods that can be accessed like attributes. This allows you to implement getter, setter, and deleter methods while maintaining an intuitive interface for accessing attributes."
      ],
      "metadata": {
        "id": "VikjN3dZIuW0"
      }
    },
    {
      "cell_type": "markdown",
      "source": [
        "**14.Why is polymorphism is important in OOP?**"
      ],
      "metadata": {
        "id": "WjAnqAKHKNTP"
      }
    },
    {
      "cell_type": "markdown",
      "source": [
        "  Polymorphism is a core concept of OOP that enhances code flexibility, reusability, and maintainability by allowing different classes to be treated through a common interface while enabling unique behaviors.\n",
        "\n",
        " **Key Advantages of Polymorphism**\n",
        "\n",
        " ** 1.Flexibility: **\n",
        "      Polymorphism allows objects of various classes to be accessed through the same interface. This means that code can operate on different types of objects without needing to know their specific classes, resulting in more adaptable and maintainable code. For example, a function designed to handle a generic Shape can work with any class that inherits from Shape, such as Circle, Square, or Triangle, without requiring changes to the function itself\n",
        "\n",
        "  **2.Code Reusability:**\n",
        "      With polymorphism, developers can write more generic code that is reusable across different contexts. By using method overriding and interfaces, one can define a common interface that various classes implement. This reduces redundancy and the need to rewrite similar code, facilitating easier updates and improvements\n",
        "\n",
        "  **3.Maintenance and Extensibility:**\n",
        "     Polymorphism simplifies code maintenance since it allows programmers to add new functionalities through subclassing without modifying existing code. As new subclasses can be developed that adhere to the established interface, enhancing or altering behaviors becomes straightforward, promoting a clean codebase and reducing the risk of bugs\n",
        "\n"
      ],
      "metadata": {
        "id": "29-xRQTLLu3d"
      }
    },
    {
      "cell_type": "markdown",
      "source": [
        "**15.What is an abstract class in python?**"
      ],
      "metadata": {
        "id": "feajS5VeMTFI"
      }
    },
    {
      "cell_type": "markdown",
      "source": [
        "An abstract class in Python is a blueprint for other classes that cannot be instantiated on its own and is designed to define methods that must be implemented by its subclasses.\n",
        "\n",
        "** Definition and Purpose**\n",
        "**Abstract Class:** In Python, an abstract class serves as a template for other classes. It defines a set of methods that must be created within any child classes built from the abstract class, ensuring that its structure follows a certain standard.\n",
        "\n",
        "**Instantiation:** You cannot create objects from an abstract class; they are meant to be subclasses that provide specific implementations of the abstract methods."
      ],
      "metadata": {
        "id": "qknvj6CqMeEx"
      }
    },
    {
      "cell_type": "markdown",
      "source": [
        "**16.What are the advantages of OOP?**"
      ],
      "metadata": {
        "id": "fKZQ-5B9UVMM"
      }
    },
    {
      "cell_type": "markdown",
      "source": [
        "** Key Advantages of OOP**\n",
        "\n",
        " **Modularity:**\n",
        "\n",
        "OOP allows for the division of complex systems into smaller, manageable parts (objects). This modularity makes it easier to understand, develop, and maintain the codebase, as developers can focus on individual components\n",
        "\n",
        " **Code Reusability:**\n",
        "\n",
        "With OOP, objects and classes can be reused across multiple applications. This reusability is largely facilitated through inheritance, where new classes can inherit properties and methods from existing ones, reducing redundancy and development time\n",
        "\n",
        "** Encapsulation:**\n",
        "OOP encapsulates data and the methods that operate on that data within objects, promoting data hiding. This enhances security by protecting object data integrity and limiting access to internal states, thus reducing the chance of unauthorized interference\n",
        "\n",
        " **Improved Maintenance:**\n",
        "Updating and maintaining code is simpler with OOP since changes can be made to individual objects or classes without affecting the entire program. This leads to less downtime and more manageable code\n",
        "\n",
        " **Flexibility and Scalability:**\n",
        "OOP supports polymorphism, allowing methods to behave differently based on the object type, which contributes to system flexibility. Additionally, it enables easy expansion of systems with new features without altering existing code structures\n",
        "\n",
        " **Effective Problem Solving:**\n",
        "OOP promotes a systematic approach to problem-solving by allowing developers to model real-world entities as objects. This makes complex problems easier to handle, as they can be broken down into smaller, more manageable parts\n",
        "\n",
        " **Better Collaboration:**\n",
        "The modular nature of OOP makes it easier for teams to work on different components of a project simultaneously, enhancing collaboration and improving project workflows\n"
      ],
      "metadata": {
        "id": "43IvF_iqWaxG"
      }
    },
    {
      "cell_type": "markdown",
      "source": [
        "**17.What is the difference between a class variable and an instance variable?**"
      ],
      "metadata": {
        "id": "AT6JVUrEUtSo"
      }
    },
    {
      "cell_type": "markdown",
      "source": [
        "**difference between a class variable and an instance variable**\n",
        "\n",
        "**Class Variables**\n",
        "\n",
        " **Definition:** Class variables, also called static variables, are declared with the static keyword within a class. They belong to the class itself rather than any particular instance and are shared across all instances.\n",
        "\n",
        "** Memory Allocation:** Only one copy of a class variable exists, regardless of how many instances of the class are created. This copy is allocated when the class is loaded into memory.\n",
        "\n",
        "**Access: **Class variables can be accessed using the class name (e.g., ClassName.variableName) or through an instance of the class. They can be modified by any instance of the class, and changes will reflect in all instances.\n",
        "\n",
        "**Use Cases:** Common uses include constants shared by all instances (like a mathematical constant) or counters that track the number of instances created from a class.\n",
        "\n",
        "** Instance Variables**\n",
        "\n",
        "** Definition: **Instance variables are unique to each object (instance) of the class. They are declared without the static keyword and hold data that is specific to that instance.\n",
        "\n",
        "** Memory Allocation: **Each time a new instance is created, a separate copy of the instance variable is allocated for that object. These variables are destroyed when the instance is no longer in use.\n",
        "\n",
        "** Access:** Instance variables can only be accessed through an instance of the class. They require an object reference (e.g., objectName.variableName) and are initialized when the object is created, often within the constructor.\n",
        "\n",
        "** Use Cases:** These are used to hold data that varies from one instance to another, such as a person's name or age in a Person class, where each object can have different values."
      ],
      "metadata": {
        "id": "FshhAqueafGU"
      }
    },
    {
      "cell_type": "markdown",
      "source": [
        "**18.What is multiple inheritance in python?**"
      ],
      "metadata": {
        "id": "w_vu62d9ZZVj"
      }
    },
    {
      "cell_type": "markdown",
      "source": [
        "Multiple inheritance in Python is a feature where a class (subclass) can inherit from more than one parent class, allowing it to combine attributes and methods from those classes.\n",
        "\n",
        "** Definition**\n",
        "\n",
        "In Python, when a class derives from two or more classes, it is known as multiple inheritance. This allows a derived (child) class to inherit features from multiple base (parent) classes, promoting code reusability and flexibility in design."
      ],
      "metadata": {
        "id": "z5nesQhicjge"
      }
    },
    {
      "cell_type": "markdown",
      "source": [
        "**19.Explain the purpose of \"_ _str_ _'and'_ _repr_ _\"methods in python?**"
      ],
      "metadata": {
        "id": "vOdIGVzedrq0"
      }
    },
    {
      "cell_type": "markdown",
      "source": [
        " In Python, the __str__ method provides a user-friendly string representation of an object, while the __repr__ method offers an unambiguous representation primarily intended for developers.\n",
        "\n",
        "** Overview of __str__**\n",
        "\n",
        "**Goal: **\n",
        "  The __str__ method is designed to return a human-readable string representation of an object. This method is called when you use the print() function or when you convert an object to a string using str().\n",
        "\n",
        "**Usage:**\n",
        "This is useful for creating a presentable output that is easy to understand and suitable for the end-user. For instance, if you have a class representing a book, the __str__ method could return a summary of the book's title and author, like \"The Great Gatsby by F. Scott Fitzgerald\".\n",
        "\n",
        "** Example:**\n",
        "\n",
        "class Book:\n",
        "    def __init__(self, title, author):\n",
        "        self.title = title\n",
        "        self.author = author\n",
        "        \n",
        "    def __str__(self):\n",
        "        return f'\"{self.title}\" by {self.author}'\n",
        "\n",
        "book = Book(\"The Great Gatsby\", \"F. Scott Fitzgerald\")\n",
        "print(book)  # Output: \"The Great Gatsby\" by F. Scott Fitzgerald\n",
        "\n",
        " **Overview of __repr__**\n",
        "\n",
        "** Goal: **\n",
        "   The __repr__ method aims to provide an official string representation of an object that is unambiguous. This should ideally be a string that could be used to recreate the object when passed to the eval() function, ensuring that it is detailed enough for debugging and development.\n",
        "\n",
        "**Usage:** It is mostly used in logging and debugging contexts where a clear and precise representation is crucial. For example, a __repr__ for the previously mentioned Book class might return Book(\"The Great Gatsby\", \"F. Scott Fitzgerald\"), providing all necessary information to recreate the object.\n",
        "\n",
        "** Example:**\n",
        "\n",
        "class Book:\n",
        "    def __init__(self, title, author):\n",
        "        self.title = title\n",
        "        self.author = author\n",
        "\n",
        "    def __repr__(self):\n",
        "        return f'Book(\"{self.title}\", \"{self.author}\")'\n",
        "\n",
        "book = Book(\"The Great Gatsby\", \"F. Scott Fitzgerald\")\n",
        "print(repr(book))  # Output: Book(\"The Great Gatsby\", \"F. Scott Fitzgerald\")"
      ],
      "metadata": {
        "id": "4pR7Q2NDey4h"
      }
    },
    {
      "cell_type": "markdown",
      "source": [
        "**20.What is the significance of the 'super()' function in python?**"
      ],
      "metadata": {
        "id": "75H9dBTUgzmn"
      }
    },
    {
      "cell_type": "markdown",
      "source": [
        "The super() function in Python is crucial for accessing methods from a parent class, enabling code reusability, maintainability, and proper management of inheritance, especially in complex scenarios.\n",
        "\n",
        " **Key Features and Significance**\n",
        "\n",
        " **Method Access:** super() provides a straightforward way to call inherited methods. This is particularly useful if a subclass overrides a parent class's method and still wants to invoke the original implementation.\n",
        "\n",
        " **Dynamic Reference:** Using super() dynamically determines the parent class, making it easier to refactor code. If the class hierarchy changes, you won’t need to update the method calls in subclasses that use super().\n",
        "\n",
        " **Avoiding Name Conflicts: **In cases of multiple inheritance, super() helps to manage conflicts between methods that share the same name. It ensures that the method resolution order (MRO) is respected, calling methods in the correct order without redundancy.\n",
        "\n",
        " **Enhancing Code Reusability:** By leveraging super(), developers can extend existing methods instead of rewriting them, fostering a DRY (Don't Repeat Yourself) approach in coding practices.\n"
      ],
      "metadata": {
        "id": "xSmB0QS2hxx5"
      }
    },
    {
      "cell_type": "markdown",
      "source": [
        "**21.What is the significance of the _ _del_ _ method in python?**"
      ],
      "metadata": {
        "id": "cB90KXHniOne"
      }
    },
    {
      "cell_type": "markdown",
      "source": [
        " **Overview of the del Method**\n",
        "\n",
        "  The del method is a special method in Python that is automatically called when an object is about to be destroyed. It is often referred to as the finalizer or destructor, although it does not actually destroy the object; rather, it is called by the garbage collector when the object's reference count reaches zero.\n",
        "\n",
        "** Purpose of the del Method**\n",
        "\n",
        " **Resource Management: **The primary purpose of the del method is to perform cleanup actions, such as closing files, releasing database connections, or freeing memory. This helps prevent resource leaks and ensures that resources are properly managed.\n",
        "\n",
        " **Automatic Cleanup: **When an object is no longer referenced, Python's garbage collector schedules the del method to be called. This means that the cleanup logic is executed automatically, simplifying the code and making it more maintainable."
      ],
      "metadata": {
        "id": "KWxGu6zqilbH"
      }
    },
    {
      "cell_type": "markdown",
      "source": [
        "**22.What is the difference between @staticmethod and @classmethod in python?**"
      ],
      "metadata": {
        "id": "oAP07KysjwsT"
      }
    },
    {
      "cell_type": "markdown",
      "source": [
        " **@classmethod**\n",
        "\n",
        "**Definition:** A class method is a method that receives the class (not the instance) as the first argument. This is typically named cls. It can manipulate class state that applies across all instances of the class.\n",
        "\n",
        "**Syntax:**\n",
        "\n",
        "class MyClass:\n",
        "    @classmethod\n",
        "    def my_class_method(cls, arg1, arg2):\n",
        "        # Use cls to access class attributes or methods\n",
        "        pass\n",
        "\n",
        "**Usage: **Class methods are often used for factory methods that can create class instances or modify class-level attributes. They are beneficial in inheritance hierarchies because they always refer to the class that calls them.\n",
        "\n",
        "**@staticmethod**\n",
        "\n",
        "**Definition:** A static method, in contrast, does not receive an implicit first argument. It behaves like a plain function but resides within a class's namespace for organizational purposes.\n",
        "\n",
        "**Syntax:**\n",
        "\n",
        "class MyClass:\n",
        "    @staticmethod\n",
        "    def my_static_method(arg1, arg2):\n",
        "        # No access to instance or class\n",
        "        pass\n",
        "\n",
        "**Usage:** Static methods are used for utility functions that don't need access to class or instance data. They are suitable for operations that belong to the class's context but do not modify class or instance state."
      ],
      "metadata": {
        "id": "8gdtBg8elG-3"
      }
    },
    {
      "cell_type": "markdown",
      "source": [
        "**23.How does polymorphism work in python with inheritance?**"
      ],
      "metadata": {
        "id": "bhdo-a7Z1IOK"
      }
    },
    {
      "cell_type": "markdown",
      "source": [
        "Inheritance and Polymorphism\n",
        "Inheritance allows a class (child class or subclass) to inherit attributes and methods from another class (parent class or superclass). When a subclass overrides a method from its parent class, it allows the method to behave differently depending on the subclass context. This is where polymorphism comes into play:\n",
        "Method Overriding: The child class provides a specific implementation for a method that is already defined in its parent class. The version of the method that gets executed is determined at runtime, depending on the object type.\n",
        "Example of Polymorphism with Inheritance\n",
        "Let's consider an example involving animals:\n",
        "class Animal:\n",
        "    def sound(self):\n",
        "        return \"Some generic sound\"\n",
        "\n",
        "class Dog(Animal):\n",
        "    def sound(self):\n",
        "        return \"Bark\"\n",
        "\n",
        "class Cat(Animal):\n",
        "    def sound(self):\n",
        "        return \"Meow\"\n",
        "\n",
        "# Using Polymorphism\n",
        "def animal_sound(animal):\n",
        "    print(animal.sound())\n",
        "\n",
        "animal_sound(Dog())  # Output: Bark\n",
        "animal_sound(Cat())  # Output: Meow"
      ],
      "metadata": {
        "id": "KtSKw0091xSH"
      }
    },
    {
      "cell_type": "markdown",
      "source": [
        "**24.What is method chaining in python OOP?**"
      ],
      "metadata": {
        "id": "T2btQ5Lw1d4Q"
      }
    },
    {
      "cell_type": "markdown",
      "source": [
        "**What is Method Chaining?**\n",
        "\n",
        "Method chaining is a programming style where multiple methods are called on the same object sequentially in a single expression. Each method call returns the object itself (often self), allowing further methods to be invoked directly after it. This practice helps streamline the code and reduce clutter by minimizing the need for temporary variables\n",
        "\n"
      ],
      "metadata": {
        "id": "GZ0IoVLx3QRi"
      }
    },
    {
      "cell_type": "markdown",
      "source": [
        " **25.What is the purpose of the _ _ call _ _ method in python?**"
      ],
      "metadata": {
        "id": "l9bMhAIm4fuy"
      }
    },
    {
      "cell_type": "markdown",
      "source": [
        "**Purpose and Functionality**\n",
        "\n",
        "**1.Enables Callable Instances: **By defining a __call__ method, you can allow instances of your class to act like functions, facilitating a smoother and more intuitive interface for certain programming tasks.\n",
        "\n",
        "**2.Flexibility:** This capability provides significant flexibility in your code, enabling you to design classes that encapsulate behavior in a more function-like manner while retaining object-oriented features. For example, you can maintain state across subsequent calls to the instance.\n",
        "\n",
        "**3.Stateful Callables:** The __call__ method allows instances of the class to maintain their state. For instance, you can use a counter class that increments its count each time it's called:\n",
        "\n",
        "class Counter:\n",
        "    def __init__(self):\n",
        "        self.count = 0\n",
        "\n",
        "    def __call__(self):\n",
        "        self.count += 1\n",
        "        return self.count\n",
        "\n",
        "counter = Counter()\n",
        "print(counter())  # Output: 1\n",
        "print(counter())  # Output: 2"
      ],
      "metadata": {
        "id": "5eWlnnY75DZD"
      }
    },
    {
      "cell_type": "markdown",
      "source": [
        "**PRACTICAL QUESTIONS**"
      ],
      "metadata": {
        "id": "qZjVOgG7XtzO"
      }
    },
    {
      "cell_type": "markdown",
      "source": [
        "**1.Create a parent class animal with a method speak() that prints a genetic messege.Create a child class Dog overrides the speak () method to print \"Bark!\".**"
      ],
      "metadata": {
        "id": "-2qa5f9-aaj2"
      }
    },
    {
      "cell_type": "code",
      "source": [
        "# Parent class\n",
        "class Animal:\n",
        "    def speak(self):\n",
        "        print(\"This is a generic animal sound.\")\n",
        "\n",
        "# Child class\n",
        "class Dog(Animal):\n",
        "    def speak(self):\n",
        "        print(\"Bark!\")\n",
        "\n",
        "# Example usage\n",
        "animal = Animal()\n",
        "animal.speak()  # Output: This is a generic animal sound.\n",
        "\n",
        "dog = Dog()\n",
        "dog.speak()"
      ],
      "metadata": {
        "colab": {
          "base_uri": "https://localhost:8080/"
        },
        "id": "LjBPKELycX0m",
        "outputId": "b761543a-be09-4ebc-a1e7-840873c530a1"
      },
      "execution_count": null,
      "outputs": [
        {
          "output_type": "stream",
          "name": "stdout",
          "text": [
            "This is a generic animal sound.\n",
            "Bark!\n"
          ]
        }
      ]
    },
    {
      "cell_type": "markdown",
      "source": [
        "**2.Write a program to create an abstract class shape with a method area().Derive classes circle and rectangle from it and implement the area() method in both.**"
      ],
      "metadata": {
        "id": "X9a0oJDZchMK"
      }
    },
    {
      "cell_type": "code",
      "source": [
        "from abc import ABC, abstractmethod\n",
        "import math\n",
        "\n",
        "# Abstract class\n",
        "class Shape(ABC):\n",
        "    @abstractmethod\n",
        "    def area(self):\n",
        "        pass\n",
        "\n",
        "# Derived class for Circle\n",
        "class Circle(Shape):\n",
        "    def __init__(self, radius):\n",
        "        self.radius = radius\n",
        "\n",
        "    def area(self):\n",
        "        return math.pi * self.radius ** 2\n",
        "\n",
        "# Derived class for Rectangle\n",
        "class Rectangle(Shape):\n",
        "    def __init__(self, length, width):\n",
        "        self.length = length\n",
        "        self.width = width\n",
        "\n",
        "    def area(self):\n",
        "        return self.length * self.width\n",
        "\n",
        "# Example usage\n",
        "if __name__ == \"__main__\":\n",
        "    circle = Circle(5)  # Circle with radius 5\n",
        "    rectangle = Rectangle(4, 6)  # Rectangle with length 4 and width 6\n",
        "\n",
        "    print(f\"Area of Circle: {circle.area():.2f}\")\n",
        "    print(f\"Area of Rectangle: {rectangle.area():.2f}\")"
      ],
      "metadata": {
        "colab": {
          "base_uri": "https://localhost:8080/"
        },
        "id": "ctckjuTXnW8D",
        "outputId": "6d3860e2-3ed3-45d0-9278-ddc60b61e243"
      },
      "execution_count": null,
      "outputs": [
        {
          "output_type": "stream",
          "name": "stdout",
          "text": [
            "Area of Circle: 78.54\n",
            "Area of Rectangle: 24.00\n"
          ]
        }
      ]
    },
    {
      "cell_type": "markdown",
      "source": [
        "**3.Implement a multi-level inheritance scenario where a class vehicle has an attribute type.Derive a class car and further derive a class Electric car that that adds a battery attribute.**"
      ],
      "metadata": {
        "id": "zxIxvAQgox2t"
      }
    },
    {
      "cell_type": "code",
      "source": [
        "# Base class\n",
        "class Vehicle:\n",
        "    def __init__(self, vehicle_type):\n",
        "        self.vehicle_type = vehicle_type\n",
        "\n",
        "    def display_type(self):\n",
        "        return f\"This is a {self.vehicle_type}.\"\n",
        "\n",
        "# Derived class\n",
        "class Car(Vehicle):\n",
        "    def __init__(self, vehicle_type, brand):\n",
        "        super().__init__(vehicle_type)\n",
        "        self.brand = brand\n",
        "\n",
        "    def display_car_info(self):\n",
        "        return f\"This is a {self.brand} car, which is a type of {self.vehicle_type}.\"\n",
        "\n",
        "# Further derived class\n",
        "class ElectricCar(Car):\n",
        "    def __init__(self, vehicle_type, brand, battery_capacity):\n",
        "        super().__init__(vehicle_type, brand)\n",
        "        self.battery_capacity = battery_capacity\n",
        "\n",
        "    def display_electric_car_info(self):\n",
        "        return (f\"This is an electric {self.brand} car with a battery capacity of \"\n",
        "                f\"{self.battery_capacity} kWh, which is a type of {self.vehicle_type}.\")\n",
        "\n",
        "# Example usage\n",
        "if __name__ == \"__main__\":\n",
        "    my_vehicle = Vehicle(\"vehicle\")\n",
        "    print(my_vehicle.display_type())\n",
        "\n",
        "    my_car = Car(\"vehicle\", \"Toyota\")\n",
        "    print(my_car.display_car_info())\n",
        "\n",
        "    my_electric_car = ElectricCar(\"vehicle\", \"Tesla\", 75)\n",
        "    print(my_electric_car.display_electric_car_info())"
      ],
      "metadata": {
        "colab": {
          "base_uri": "https://localhost:8080/"
        },
        "id": "bFeVXae9rRZc",
        "outputId": "680baefd-59be-4468-c851-98845389eb9a"
      },
      "execution_count": null,
      "outputs": [
        {
          "output_type": "stream",
          "name": "stdout",
          "text": [
            "This is a vehicle.\n",
            "This is a Toyota car, which is a type of vehicle.\n",
            "This is an electric Tesla car with a battery capacity of 75 kWh, which is a type of vehicle.\n"
          ]
        }
      ]
    },
    {
      "cell_type": "markdown",
      "source": [
        "**4.Demonstrate polymorphim by creating a base classbird with a method fly().Create two derived classes sparrow and penguin that override the fly() method.**"
      ],
      "metadata": {
        "id": "XoR4CPetrUMt"
      }
    },
    {
      "cell_type": "markdown",
      "source": [
        "Polymorphism is an important concept in object-oriented programming that allows methods to do different things based on the object it is acting upon. Below, we will create a base class called Bird, which has a method fly(). In addition, we will create two derived classes: Sparrow and Penguin, which will override the fly() method to demonstrate polymorphism.\n",
        "\n",
        "Base Class: Bird\n",
        "class Bird {\n",
        "    // Method to be overridden by subclasses\n",
        "    public void fly() {\n",
        "        System.out.println(\"Birds can fly.\");\n",
        "    }\n",
        "}\n",
        "\n",
        "Derived Class 1: Sparrow\n",
        "class Sparrow extends Bird {\n",
        "    // Overriding the fly method\n",
        "    @Override\n",
        "    public void fly() {\n",
        "        System.out.println(\"Sparrow is flying high!\");\n",
        "    }\n",
        "}\n",
        "Derived Class 2: Penguin\n",
        "class Penguin extends Bird {\n",
        "    // Overriding the fly method\n",
        "    @Override\n",
        "    public void fly() {\n",
        "        System.out.println(\"Penguins cannot fly!\");\n",
        "    }\n",
        "}\n",
        "Main Method to Demonstrate Polymorphism\n",
        "public class PolymorphismDemo {\n",
        "    public static void main(String[] args) {\n",
        "        // Creating objects of the derived classes\n",
        "        Bird mySparrow = new Sparrow();\n",
        "        Bird myPenguin = new Penguin();\n",
        "\n",
        "        // Calling the fly method on each object\n",
        "        mySparrow.fly(); // Output: Sparrow is flying high!\n",
        "        myPenguin.fly(); // Output: Penguins cannot fly!\n",
        "    }\n",
        "}\n",
        "\n"
      ],
      "metadata": {
        "id": "BSwNev4WtsMh"
      }
    },
    {
      "cell_type": "markdown",
      "source": [
        "**5.Write a program to demonstrate encapsulation by creating a class Bankaccount with private attributes balance and methods to deposit,withdraw and check balance.**"
      ],
      "metadata": {
        "id": "7xpwSEa6ukgp"
      }
    },
    {
      "cell_type": "code",
      "source": [
        "class BankAccount:\n",
        "    def __init__(self, initial_balance=0):\n",
        "        # Private attribute\n",
        "        self.__balance = initial_balance\n",
        "\n",
        "    # Method to deposit money\n",
        "    def deposit(self, amount):\n",
        "        if amount > 0:\n",
        "            self.__balance += amount\n",
        "            print(f\"₹{amount} deposited successfully.\")\n",
        "        else:\n",
        "            print(\"Deposit amount must be positive.\")\n",
        "\n",
        "    # Method to withdraw money\n",
        "    def withdraw(self, amount):\n",
        "        if amount > 0:\n",
        "            if amount <= self.__balance:\n",
        "                self.__balance -= amount\n",
        "                print(f\"₹{amount} withdrawn successfully.\")\n",
        "            else:\n",
        "                print(\"Insufficient balance.\")\n",
        "        else:\n",
        "            print(\"Withdrawal amount must be positive.\")\n",
        "\n",
        "    # Method to check balance\n",
        "    def check_balance(self):\n",
        "        print(f\"Your current balance is ₹{self.__balance}.\")\n",
        "\n",
        "# Demonstration\n",
        "if __name__ == \"__main__\":\n",
        "    account = BankAccount(500)  # Initial balance of ₹500\n",
        "    account.check_balance()\n",
        "    account.deposit(1000)\n",
        "    account.check_balance()\n",
        "    account.withdraw(300)\n",
        "    account.check_balance()\n",
        "    account.withdraw(1500)  # Attempt to withdraw more than the balance"
      ],
      "metadata": {
        "colab": {
          "base_uri": "https://localhost:8080/"
        },
        "id": "wJcvs_0yzTkp",
        "outputId": "7d726d3d-6c54-44a8-9f6e-9d73e1d3df46"
      },
      "execution_count": null,
      "outputs": [
        {
          "output_type": "stream",
          "name": "stdout",
          "text": [
            "Your current balance is ₹500.\n",
            "₹1000 deposited successfully.\n",
            "Your current balance is ₹1500.\n",
            "₹300 withdrawn successfully.\n",
            "Your current balance is ₹1200.\n",
            "Insufficient balance.\n"
          ]
        }
      ]
    },
    {
      "cell_type": "markdown",
      "source": [
        "**6.Demonstrate runtime polymorphism using a method play () in a base class instrument.Derive classes Guitar and piano that implement their own version of play().**"
      ],
      "metadata": {
        "id": "xzT7SyRJw3hq"
      }
    },
    {
      "cell_type": "markdown",
      "source": [
        "In this example, I will demonstrate runtime polymorphism in Java using the classes Instrument, Guitar, and Piano. The base class Instrument will have a method play(), which will be overridden by the derived classes Guitar and Piano to provide their specific implementations.\n",
        "Java Code Example\n",
        "// Base class\n",
        "class Instrument {\n",
        "    void play() {\n",
        "        System.out.println(\"Playing an instrument\");\n",
        "    }\n",
        "}\n",
        "\n",
        "// Derived class Guitar\n",
        "class Guitar extends Instrument {\n",
        "    void play() {\n",
        "        System.out.println(\"Playing the guitar\");\n",
        "         }\n",
        "}\n",
        "\n",
        "// Derived class Piano\n",
        "class Piano extends Instrument {\n",
        "    void play() {\n",
        "        System.out.println(\"Playing the piano\");\n",
        "    }\n",
        "}\n",
        "\n",
        "public class Main {\n",
        "    public static void main(String[] args) {\n",
        "        // Creating objects of the derived classes\n",
        "        Instrument myInstrument1 = new Guitar(); // Upcasting\n",
        "        Instrument myInstrument2 = new Piano();  // Upcasting\n",
        "\n",
        "        // Calling the play() method\n",
        "        myInstrument1.play(); // Output: Playing the guitar\n",
        "        myInstrument2.play(); // Output: Playing the piano\n",
        "    }\n",
        "}\n",
        "\n",
        "**Explanation**\n",
        "\n",
        "**1.Base Class (Instrument):** Here, we define a method play() that provides a generic implementation for playing an instrument.\n",
        "\n",
        "**2.Derived Classes (Guitar and Piano):** These classes extend the Instrument class and override the play() method with their specific implementations. When we call play() on a Guitar object, it outputs \"Playing the guitar\", and for a Piano object, it outputs \"Playing the piano\".\n",
        "\n",
        "**3.Upcasting: **In the main method, we create references of type Instrument that point to objects of the Guitar and Piano classes. This is called upcasting, where a base class reference holds a derived class object.\n",
        "\n",
        "**4.Runtime Polymorphism:** When we invoke the play() method using the base class references, the Java compiler uses the actual object type (Guitar or Piano) to determine which play() method to execute at runtime. This is the essence of runtime polymorphism.\n",
        "\n",
        "Output\n",
        "When the above program is executed, the output will be:\n",
        "Playing the guitar\n",
        "Playing the piano\n"
      ],
      "metadata": {
        "id": "HHovwZvp0AdU"
      }
    },
    {
      "cell_type": "markdown",
      "source": [
        "**7.Create a class MathOperations with a class method add_numbers() to add two numbers and a static method substract_numbers()to subtract two numbers.**"
      ],
      "metadata": {
        "id": "bqyEZY2-6zFA"
      }
    },
    {
      "cell_type": "code",
      "source": [
        "class MathOperations:\n",
        "    @classmethod\n",
        "    def add_numbers(cls, a, b):\n",
        "        \"\"\"Class method to add two numbers.\"\"\"\n",
        "        return a + b\n",
        "\n",
        "    @staticmethod\n",
        "    def subtract_numbers(a, b):\n",
        "        \"\"\"Static method to subtract two numbers.\"\"\"\n",
        "        return a - b\n",
        "\n",
        "# Example usage:\n",
        "# Adding numbers using the class method\n",
        "result_add = MathOperations.add_numbers(10, 5)\n",
        "print(f\"Addition Result: {result_add}\")\n",
        "\n",
        "# Subtracting numbers using the static method\n",
        "result_subtract = MathOperations.subtract_numbers(10, 5)\n",
        "print(f\"Subtraction Result: {result_subtract}\")"
      ],
      "metadata": {
        "colab": {
          "base_uri": "https://localhost:8080/"
        },
        "id": "V0sfPwr09zLz",
        "outputId": "855db5ed-f15e-4c10-da63-9e0a17fcce8a"
      },
      "execution_count": null,
      "outputs": [
        {
          "output_type": "stream",
          "name": "stdout",
          "text": [
            "Addition Result: 15\n",
            "Subtraction Result: 5\n"
          ]
        }
      ]
    },
    {
      "cell_type": "markdown",
      "source": [
        "**8.Implement a class person with a class method to count the total number of persons created.**"
      ],
      "metadata": {
        "id": "p7NK35PT93U-"
      }
    },
    {
      "cell_type": "code",
      "source": [
        "class Person:\n",
        "    # Class variable to keep track of the count of persons\n",
        "    _count = 0\n",
        "\n",
        "    def __init__(self, name):\n",
        "        self.name = name\n",
        "        # Increment the count whenever a new person is created\n",
        "        Person._count += 1\n",
        "\n",
        "    @classmethod\n",
        "    def get_person_count(cls):\n",
        "        \"\"\"Class method to return the total number of persons created.\"\"\"\n",
        "        return cls._count\n",
        "\n",
        "# Example usage\n",
        "person1 = Person(\"Alice\")\n",
        "person2 = Person(\"Bob\")\n",
        "person3 = Person(\"Charlie\")\n",
        "\n",
        "print(f\"Total persons created: {Person.get_person_count()}\")"
      ],
      "metadata": {
        "colab": {
          "base_uri": "https://localhost:8080/"
        },
        "id": "tWF5BnWCAt91",
        "outputId": "6d94a079-471a-4f3c-e4b2-0ec80eed1be3"
      },
      "execution_count": null,
      "outputs": [
        {
          "output_type": "stream",
          "name": "stdout",
          "text": [
            "Total persons created: 3\n"
          ]
        }
      ]
    },
    {
      "cell_type": "markdown",
      "source": [
        "**9.Write a class fraction with attributes with numerator and denominator.Override the str method to display the fraction as \"numerator/denominator\".**"
      ],
      "metadata": {
        "id": "LUfaNJ05A5c-"
      }
    },
    {
      "cell_type": "code",
      "source": [
        "class Fraction:\n",
        "    def __init__(self, numerator, denominator):\n",
        "        if denominator == 0:\n",
        "            raise ValueError(\"Denominator cannot be zero.\")\n",
        "        self.numerator = numerator\n",
        "        self.denominator = denominator\n",
        "\n",
        "    def __str__(self):\n",
        "        return f\"{self.numerator}/{self.denominator}\"\n",
        "\n",
        "# Example usage:\n",
        "fraction = Fraction(3, 4)\n",
        "print(fraction)"
      ],
      "metadata": {
        "colab": {
          "base_uri": "https://localhost:8080/"
        },
        "id": "Oz3eY2sOpr62",
        "outputId": "bf368d9b-b783-47a0-d8f9-1f41abce6aa6"
      },
      "execution_count": null,
      "outputs": [
        {
          "output_type": "stream",
          "name": "stdout",
          "text": [
            "3/4\n"
          ]
        }
      ]
    },
    {
      "cell_type": "markdown",
      "source": [
        "**10.Demonstrate operator overloading by creating a class vector and ovrriding the add method to add two vectors.**"
      ],
      "metadata": {
        "id": "IEtWq7WnpzfR"
      }
    },
    {
      "cell_type": "code",
      "source": [
        "class Vector:\n",
        "    def __init__(self, x, y):\n",
        "        self.x = x\n",
        "        self.y = y\n",
        "\n",
        "    def __add__(self, other):\n",
        "        if isinstance(other, Vector):\n",
        "            return Vector(self.x + other.x, self.y + other.y)\n",
        "        raise TypeError(\"Operand must be an instance of Vector\")\n",
        "\n",
        "    def __repr__(self):\n",
        "        return f\"Vector({self.x}, {self.y})\"\n",
        "\n",
        "# Example usage\n",
        "v1 = Vector(2, 3)\n",
        "v2 = Vector(4, 5)\n",
        "\n",
        "v3 = v1 + v2  # Using the overloaded '+' operator\n",
        "print(v3)"
      ],
      "metadata": {
        "colab": {
          "base_uri": "https://localhost:8080/"
        },
        "id": "ONKfcGwYsWLo",
        "outputId": "d2d47c99-4192-4cf7-c244-e8f6514e7d65"
      },
      "execution_count": null,
      "outputs": [
        {
          "output_type": "stream",
          "name": "stdout",
          "text": [
            "Vector(6, 8)\n"
          ]
        }
      ]
    },
    {
      "cell_type": "markdown",
      "source": [
        "**11.Create a class person with attributes name and age.Add a method greet() that prints \"Hello,my name is {name} and I am {Age} years old.\"**"
      ],
      "metadata": {
        "id": "M17F_sOcsbrm"
      }
    },
    {
      "cell_type": "code",
      "source": [
        "class Person:\n",
        "    def __init__(self, name, age):\n",
        "        self.name = name\n",
        "        self.age = age\n",
        "\n",
        "    def greet(self):\n",
        "        print(f\"Hello, my name is {self.name} and I am {self.age} years old.\")\n",
        "\n",
        "# Example usage:\n",
        "person = Person(\"Alice\", 30)\n",
        "person.greet()"
      ],
      "metadata": {
        "colab": {
          "base_uri": "https://localhost:8080/"
        },
        "id": "oZqHh-cuuVkp",
        "outputId": "acaf6e40-5ac7-4d05-865b-663faa1c719a"
      },
      "execution_count": null,
      "outputs": [
        {
          "output_type": "stream",
          "name": "stdout",
          "text": [
            "Hello, my name is Alice and I am 30 years old.\n"
          ]
        }
      ]
    },
    {
      "cell_type": "markdown",
      "source": [
        "**12.Implement a class student with attributes name and grades.Create a method average_grade to compute the average of the grades.**"
      ],
      "metadata": {
        "id": "YeQ5gkDRvT9P"
      }
    },
    {
      "cell_type": "code",
      "source": [
        "class Student:\n",
        "    def __init__(self, name, grades):\n",
        "        \"\"\"\n",
        "        Initialize the Student object with a name and a list of grades.\n",
        "        :param name: str - Name of the student\n",
        "        :param grades: list - List of grades (numbers)\n",
        "        \"\"\"\n",
        "        self.name = name\n",
        "        self.grades = grades\n",
        "\n",
        "    def average_grade(self):\n",
        "        \"\"\"\n",
        "        Compute the average of the grades.\n",
        "        :return: float - Average of the grades\n",
        "        \"\"\"\n",
        "        if not self.grades:  # Handle case where grades list is empty\n",
        "            return 0.0\n",
        "        return sum(self.grades) / len(self.grades)\n",
        "\n",
        "\n",
        "# Example usage:\n",
        "student = Student(\"Alice\", [85, 90, 78, 92])\n",
        "print(f\"Student Name: {student.name}\")\n",
        "print(f\"Average Grade: {student.average_grade():.2f}\")"
      ],
      "metadata": {
        "colab": {
          "base_uri": "https://localhost:8080/"
        },
        "id": "wAiOwn3T12nw",
        "outputId": "8b9006fd-6a31-4c02-dfdc-084606362825"
      },
      "execution_count": null,
      "outputs": [
        {
          "output_type": "stream",
          "name": "stdout",
          "text": [
            "Student Name: Alice\n",
            "Average Grade: 86.25\n"
          ]
        }
      ]
    },
    {
      "cell_type": "markdown",
      "source": [
        "**13.Create a class rectangle with methods set_dimensions to det the dimensions and area () to calculate the area.**"
      ],
      "metadata": {
        "id": "GtW4JOlW2Zgk"
      }
    },
    {
      "cell_type": "code",
      "source": [
        "class Rectangle:\n",
        "    def __init__(self):\n",
        "        self.length = 0\n",
        "        self.width = 0\n",
        "\n",
        "    def set_dimensions(self, length, width):\n",
        "        \"\"\"Set the dimensions of the rectangle.\"\"\"\n",
        "        self.length = length\n",
        "        self.width = width\n",
        "\n",
        "    def area(self):\n",
        "        \"\"\"Calculate and return the area of the rectangle.\"\"\"\n",
        "        return self.length * self.width\n",
        "\n",
        "# Example usage:\n",
        "rect = Rectangle()\n",
        "rect.set_dimensions(5, 3)\n",
        "print(\"Area of the rectangle:\", rect.area())"
      ],
      "metadata": {
        "colab": {
          "base_uri": "https://localhost:8080/"
        },
        "id": "VWtd8aNRkT-R",
        "outputId": "0da28413-45f2-4c85-8fd8-b63a9ee89521"
      },
      "execution_count": null,
      "outputs": [
        {
          "output_type": "stream",
          "name": "stdout",
          "text": [
            "Area of the rectangle: 15\n"
          ]
        }
      ]
    },
    {
      "cell_type": "markdown",
      "source": [
        "**14.Create a class employee with amethod calculate_salary () that computes the salary based on hours worked and hoursly rate .Create a derived class manager that adds a bonus to the salary.**"
      ],
      "metadata": {
        "id": "8Uex9O4r2Oxy"
      }
    },
    {
      "cell_type": "markdown",
      "source": [
        "Employee Class\n",
        "class Employee:\n",
        "    def __init__(self, hours_worked, hourly_rate):\n",
        "        self.hours_worked = hours_worked\n",
        "        self.hourly_rate = hourly_rate\n",
        "\n",
        "    def calculate_salary(self):\n",
        "        \"\"\"Calculates salary based on hours worked and hourly rate.\"\"\"\n",
        "        return self.hours_worked * self.hourly_rate\n",
        "Manager Class\n",
        "class Manager(Employee):\n",
        "    def __init__(self, hours_worked, hourly_rate, bonus):\n",
        "        super().__init__(hours_worked, hourly_rate)  # Initialize the base class\n",
        "        self.bonus = bonus\n",
        "\n",
        "    def calculate_salary(self):\n",
        "        \"\"\"Calculates salary for a manager, including a bonus.\"\"\"\n",
        "        return super().calculate_salary() + self.bonus\n",
        "        Example Usage\n",
        "Here's how you can create instances of these classes and calculate their salaries:\n",
        "# Create an Employee instance\n",
        "employee = Employee(hours_worked=40, hourly_rate=25)\n",
        "print(f\"Employee Salary: ${employee.calculate_salary()}\")\n",
        "\n",
        "# Create a Manager instance\n",
        "manager = Manager(hours_worked=40, hourly_rate=30, bonus=500)\n",
        "print(f\"Manager Salary: ${manager.calculate_salary()}\")\n",
        "Explanation\n",
        "Employee Class:\n",
        "The constructor (__init__) takes hours_worked and hourly_rate as parameters.\n",
        "The calculate_salary() method computes the salary by multiplying the hours worked by the hourly rate.\n",
        "Manager Class:\n",
        "This class inherits from Employee and adds a new attribute bonus.\n",
        "The constructor of the Manager class calls the parent (Employee) constructor using super() to initialize inherited attributes.\n",
        "The overridden calculate_salary() method computes the salary and adds the bonus.\n",
        "\n",
        "Output\n",
        "Executing the example usage will produce output like:\n",
        "Employee Salary: $1000\n",
        "Manager Salary: $1700"
      ],
      "metadata": {
        "id": "pqmQh-2LnbZM"
      }
    },
    {
      "cell_type": "markdown",
      "source": [
        "**15.Create a class product with attributes name,price and quantity.Implement a method total_price() that calculates the total price of the product.**"
      ],
      "metadata": {
        "id": "PZ51Zo7so0HG"
      }
    },
    {
      "cell_type": "code",
      "source": [
        "class Product:\n",
        "    def __init__(self, name, price, quantity):\n",
        "        self.name = name\n",
        "        self.price = price\n",
        "        self.quantity = quantity\n",
        "\n",
        "    def total_price(self):\n",
        "        return self.price * self.quantity\n",
        "\n",
        "# Example usage:\n",
        "product = Product(\"Laptop\", 50000, 2)\n",
        "print(f\"Total price of {product.name}: ₹{product.total_price()}\")"
      ],
      "metadata": {
        "colab": {
          "base_uri": "https://localhost:8080/"
        },
        "id": "2C6QBwFKrpcB",
        "outputId": "aacd7485-34f1-4234-dadd-6b9ac2b25dd9"
      },
      "execution_count": null,
      "outputs": [
        {
          "output_type": "stream",
          "name": "stdout",
          "text": [
            "Total price of Laptop: ₹100000\n"
          ]
        }
      ]
    },
    {
      "cell_type": "markdown",
      "source": [
        "**16.Create a class animal with an abstract method sound().Create two derived classes cow and sheep thatimplement the sound () method.**"
      ],
      "metadata": {
        "id": "6O6lC1Ter0Zm"
      }
    },
    {
      "cell_type": "code",
      "source": [
        "from abc import ABC, abstractmethod\n",
        "\n",
        "# Abstract class Animal\n",
        "class Animal(ABC):\n",
        "    @abstractmethod\n",
        "    def sound(self):\n",
        "        pass\n",
        "\n",
        "# Derived class Cow\n",
        "class Cow(Animal):\n",
        "    def sound(self):\n",
        "        return \"Moo\"\n",
        "\n",
        "# Derived class Sheep\n",
        "class Sheep(Animal):\n",
        "    def sound(self):\n",
        "        return \"Baa\"\n",
        "\n",
        "# Example usage\n",
        "if __name__ == \"__main__\":\n",
        "    cow = Cow()\n",
        "    sheep = Sheep()\n",
        "\n",
        "    print(f\"Cow says: {cow.sound()}\")\n",
        "    print(f\"Sheep says: {sheep.sound()}\")"
      ],
      "metadata": {
        "colab": {
          "base_uri": "https://localhost:8080/"
        },
        "id": "KhNtNa8ztuVQ",
        "outputId": "b13ab38a-002d-47fd-d080-855c1c9dcd6b"
      },
      "execution_count": null,
      "outputs": [
        {
          "output_type": "stream",
          "name": "stdout",
          "text": [
            "Cow says: Moo\n",
            "Sheep says: Baa\n"
          ]
        }
      ]
    },
    {
      "cell_type": "markdown",
      "source": [
        "**17.Create a class book with attributes title,author and year_published.Add a method get_book_info () that returns a formatted string with the books details.**"
      ],
      "metadata": {
        "id": "iTMi80O-uJvn"
      }
    },
    {
      "cell_type": "code",
      "source": [
        "class Book:\n",
        "    def __init__(self, title, author, year_published):\n",
        "        \"\"\"Initialize the attributes of the book.\"\"\"\n",
        "        self.title = title\n",
        "        self.author = author\n",
        "        self.year_published = year_published\n",
        "\n",
        "    def get_book_info(self):\n",
        "        \"\"\"Return a formatted string with the details of the book.\"\"\"\n",
        "        return f\"'{self.title}' by {self.author}, published in {self.year_published}\"\n",
        "\n",
        "# Example usage:\n",
        "book = Book(\"To Kill a Mockingbird\", \"Harper Lee\", 1960)\n",
        "print(book.get_book_info())"
      ],
      "metadata": {
        "colab": {
          "base_uri": "https://localhost:8080/"
        },
        "id": "K7sTWlfMwAtC",
        "outputId": "b82b908b-c9c2-425f-97ff-a5b2262f92d8"
      },
      "execution_count": null,
      "outputs": [
        {
          "output_type": "stream",
          "name": "stdout",
          "text": [
            "'To Kill a Mockingbird' by Harper Lee, published in 1960\n"
          ]
        }
      ]
    },
    {
      "cell_type": "markdown",
      "source": [
        "**18.Create a classhouse with attributes address and price.Create a derived class mansion that adds an attribute number_of_rooms.**"
      ],
      "metadata": {
        "id": "7oLS3g20wGSv"
      }
    },
    {
      "cell_type": "code",
      "source": [
        "# Base class for House\n",
        "class House:\n",
        "    def __init__(self, address, price):\n",
        "        self.address = address  # Address of the house\n",
        "        self.price = price      # Price of the house\n",
        "\n",
        "# Derived class for Mansion\n",
        "class Mansion(House):\n",
        "    def __init__(self, address, price, number_of_rooms):\n",
        "        # Initialize the base class attributes\n",
        "        super().__init__(address, price)  # Call the constructor of the House class\n",
        "        self.number_of_rooms = number_of_rooms  # Additional attribute for number of rooms\n",
        "\n",
        "# Example usage\n",
        "# Creating an instance of House\n",
        "house1 = House(\"123 Main St\", 250000)\n",
        "print(f\"House Address: {house1.address}, Price: ${house1.price}\")\n",
        "\n",
        "# Creating an instance of Mansion\n",
        "mansion1 = Mansion(\"456 Luxury Ave\", 1500000, 5)\n",
        "print(f\"Mansion Address: {mansion1.address}, Price: ${mansion1.price}, Rooms: {mansion1.number_of_rooms}\")"
      ],
      "metadata": {
        "colab": {
          "base_uri": "https://localhost:8080/"
        },
        "id": "YZNLzv_5yHkB",
        "outputId": "024766c0-a538-4bbd-b3de-63990a0ec30c"
      },
      "execution_count": null,
      "outputs": [
        {
          "output_type": "stream",
          "name": "stdout",
          "text": [
            "House Address: 123 Main St, Price: $250000\n",
            "Mansion Address: 456 Luxury Ave, Price: $1500000, Rooms: 5\n"
          ]
        }
      ]
    }
  ]
}